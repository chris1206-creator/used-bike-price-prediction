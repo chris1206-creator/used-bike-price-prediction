{
 "cells": [
  {
   "cell_type": "markdown",
   "id": "eb98d401",
   "metadata": {},
   "source": [
    "# Used Bike Price Prediction - Exploratory Data Analysis (EDA)\n",
    "\n",
    "This notebook performs a thorough and reproducible EDA on the used bike dataset. It includes data loading, cleaning, feature engineering, visualization, and insights to support robust model development."
   ]
  },
  {
   "cell_type": "code",
   "execution_count": null,
   "id": "a0edcedd",
   "metadata": {},
   "outputs": [],
   "source": [
    "# Import required libraries\n",
    "import pandas as pd\n",
    "import numpy as np\n",
    "import matplotlib.pyplot as plt\n",
    "import seaborn as sns\n",
    "from sklearn.preprocessing import OneHotEncoder\n",
    "import warnings\n",
    "warnings.filterwarnings('ignore')"
   ]
  },
  {
   "cell_type": "code",
   "execution_count": null,
   "id": "f1a0de64",
   "metadata": {},
   "outputs": [],
   "source": [
    "# Load the dataset\n",
    "file_path = '../bikes.csv'  # Adjust path if needed\n",
    "df = pd.read_csv(file_path)\n",
    "display(df.head())\n",
    "print(f\"Rows: {df.shape[0]}, Columns: {df.shape[1]}\")"
   ]
  },
  {
   "cell_type": "code",
   "execution_count": null,
   "id": "c29e2b07",
   "metadata": {},
   "outputs": [],
   "source": [
    "# Basic info and missing values\n",
    "display(df.info())\n",
    "display(df.describe(include='all'))\n",
    "print('Missing values per column:')\n",
    "display(df.isnull().sum())"
   ]
  },
  {
   "cell_type": "code",
   "execution_count": null,
   "id": "9f19d946",
   "metadata": {},
   "outputs": [],
   "source": [
    "# Data cleaning and feature engineering\n",
    "df = df.copy()\n",
    "\n",
    "# Extract brand from model_name\n",
    "if 'model_name' in df.columns:\n",
    "    df['brand'] = df['model_name'].apply(lambda x: str(x).split()[0])\n",
    "\n",
    "# Calculate bike age from model_year\n",
    "if 'model_year' in df.columns:\n",
    "    df['bike_age'] = 2025 - df['model_year']\n",
    "\n",
    "# Convert numeric columns and handle missing values\n",
    "for col in ['mileage', 'power', 'price']:\n",
    "    if col in df.columns:\n",
    "        df[col] = pd.to_numeric(df[col], errors='coerce')\n",
    "        df[col].fillna(df[col].mean(), inplace=True)\n",
    "\n",
    "# Fill missing categorical values\n",
    "df['brand'] = df['brand'].fillna('Unknown')\n",
    "if 'owner' in df.columns:\n",
    "    df['owner'] = df['owner'].fillna('Unknown')\n",
    "\n",
    "# Remove duplicates\n",
    "df.drop_duplicates(inplace=True)\n",
    "\n",
    "# Show cleaned data\n",
    "display(df.head())\n",
    "print('Missing values after cleaning:')\n",
    "display(df.isnull().sum())"
   ]
  },
  {
   "cell_type": "code",
   "execution_count": null,
   "id": "919eabc4",
   "metadata": {},
   "outputs": [],
   "source": [
    "# Visualize distributions of key numerical features\n",
    "num_cols = ['price', 'mileage', 'power', 'bike_age']\n",
    "for col in num_cols:\n",
    "    if col in df.columns:\n",
    "        plt.figure(figsize=(7, 4))\n",
    "        sns.histplot(df[col], kde=True, bins=30)\n",
    "        plt.title(f'Distribution of {col}')\n",
    "        plt.show()"
   ]
  },
  {
   "cell_type": "code",
   "execution_count": null,
   "id": "98e5fbb5",
   "metadata": {},
   "outputs": [],
   "source": [
    "# Visualize categorical feature counts\n",
    "cat_cols = ['brand', 'owner']\n",
    "for col in cat_cols:\n",
    "    if col in df.columns:\n",
    "        plt.figure(figsize=(10, 4))\n",
    "        df[col].value_counts().head(20).plot(kind='bar')\n",
    "        plt.title(f'Top 20 {col} counts')\n",
    "        plt.ylabel('Count')\n",
    "        plt.show()"
   ]
  },
  {
   "cell_type": "code",
   "execution_count": null,
   "id": "cfc7835a",
   "metadata": {},
   "outputs": [],
   "source": [
    "# Boxplots for outlier detection\n",
    "for col in num_cols:\n",
    "    if col in df.columns:\n",
    "        plt.figure(figsize=(7, 2))\n",
    "        sns.boxplot(x=df[col])\n",
    "        plt.title(f'Boxplot of {col}')\n",
    "        plt.show()"
   ]
  },
  {
   "cell_type": "code",
   "execution_count": null,
   "id": "07a7cce5",
   "metadata": {},
   "outputs": [],
   "source": [
    "# Pairwise scatterplots and correlation heatmap\n",
    "sns.pairplot(df[num_cols])\n",
    "plt.suptitle('Pairwise Scatterplots', y=1.02)\n",
    "plt.show()\n",
    "\n",
    "plt.figure(figsize=(8, 6))\n",
    "sns.heatmap(df[num_cols].corr(), annot=True, cmap='coolwarm', fmt='.2f')\n",
    "plt.title('Correlation Heatmap')\n",
    "plt.show()"
   ]
  },
  {
   "cell_type": "code",
   "execution_count": null,
   "id": "2012e910",
   "metadata": {},
   "outputs": [],
   "source": [
    "# Price distribution by brand and owner\n",
    "if 'brand' in df.columns:\n",
    "    plt.figure(figsize=(14, 6))\n",
    "    top_brands = df['brand'].value_counts().head(10).index\n",
    "    sns.boxplot(x='brand', y='price', data=df[df['brand'].isin(top_brands)])\n",
    "    plt.title('Price Distribution by Top Brands')\n",
    "    plt.xticks(rotation=45)\n",
    "    plt.show()\n",
    "\n",
    "if 'owner' in df.columns:\n",
    "    plt.figure(figsize=(8, 4))\n",
    "    sns.boxplot(x='owner', y='price', data=df)\n",
    "    plt.title('Price Distribution by Owner Type')\n",
    "    plt.show()"
   ]
  },
  {
   "cell_type": "markdown",
   "id": "4ba940b5",
   "metadata": {},
   "source": [
    "## EDA Summary & Next Steps\n",
    "\n",
    "- The dataset has been cleaned and key features engineered (brand, bike_age).\n",
    "- Distributions, outliers, and correlations have been visualized for all major features.\n",
    "- Price varies significantly by brand and owner type.\n",
    "- Next steps: advanced feature engineering, encoding, and model training for price prediction."
   ]
  }
 ],
 "metadata": {
  "kernelspec": {
   "display_name": "Python 3",
   "language": "python",
   "name": "python3"
  },
  "language_info": {
   "codemirror_mode": {
    "name": "ipython",
    "version": 3
   },
   "file_extension": ".py",
   "mimetype": "text/x-python",
   "name": "python",
   "nbconvert_exporter": "python",
   "pygments_lexer": "ipython3",
   "version": "3.13.2"
  }
 },
 "nbformat": 4,
 "nbformat_minor": 5
}
